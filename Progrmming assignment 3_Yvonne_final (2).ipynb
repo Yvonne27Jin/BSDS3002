{
 "cells": [
  {
   "cell_type": "code",
   "execution_count": 1,
   "id": "1794a4d6",
   "metadata": {},
   "outputs": [],
   "source": [
    "import pandas as pd\n",
    "import numpy as np\n",
    "import networkx as nx\n",
    "import matplotlib.pyplot as plt\n",
    "from IPython.core.interactiveshell import InteractiveShell\n",
    "InteractiveShell.ast_node_interactivity = \"all\""
   ]
  },
  {
   "cell_type": "markdown",
   "id": "6e87040b",
   "metadata": {},
   "source": [
    "# Part I. Polblog dataset"
   ]
  },
  {
   "cell_type": "markdown",
   "id": "dcf55167",
   "metadata": {},
   "source": [
    "## Q1. Weighted, undirected network"
   ]
  },
  {
   "cell_type": "code",
   "execution_count": 2,
   "id": "710505d0",
   "metadata": {},
   "outputs": [
    {
     "data": {
      "text/html": [
       "<div>\n",
       "<style scoped>\n",
       "    .dataframe tbody tr th:only-of-type {\n",
       "        vertical-align: middle;\n",
       "    }\n",
       "\n",
       "    .dataframe tbody tr th {\n",
       "        vertical-align: top;\n",
       "    }\n",
       "\n",
       "    .dataframe thead th {\n",
       "        text-align: right;\n",
       "    }\n",
       "</style>\n",
       "<table border=\"1\" class=\"dataframe\">\n",
       "  <thead>\n",
       "    <tr style=\"text-align: right;\">\n",
       "      <th></th>\n",
       "      <th>Source</th>\n",
       "      <th>Target</th>\n",
       "      <th>size</th>\n",
       "    </tr>\n",
       "  </thead>\n",
       "  <tbody>\n",
       "    <tr>\n",
       "      <th>0</th>\n",
       "      <td>0</td>\n",
       "      <td>22</td>\n",
       "      <td>1</td>\n",
       "    </tr>\n",
       "    <tr>\n",
       "      <th>1</th>\n",
       "      <td>0</td>\n",
       "      <td>54</td>\n",
       "      <td>1</td>\n",
       "    </tr>\n",
       "    <tr>\n",
       "      <th>2</th>\n",
       "      <td>0</td>\n",
       "      <td>84</td>\n",
       "      <td>1</td>\n",
       "    </tr>\n",
       "    <tr>\n",
       "      <th>3</th>\n",
       "      <td>0</td>\n",
       "      <td>154</td>\n",
       "      <td>1</td>\n",
       "    </tr>\n",
       "    <tr>\n",
       "      <th>4</th>\n",
       "      <td>0</td>\n",
       "      <td>322</td>\n",
       "      <td>1</td>\n",
       "    </tr>\n",
       "    <tr>\n",
       "      <th>...</th>\n",
       "      <td>...</td>\n",
       "      <td>...</td>\n",
       "      <td>...</td>\n",
       "    </tr>\n",
       "    <tr>\n",
       "      <th>19020</th>\n",
       "      <td>1488</td>\n",
       "      <td>999</td>\n",
       "      <td>1</td>\n",
       "    </tr>\n",
       "    <tr>\n",
       "      <th>19021</th>\n",
       "      <td>1488</td>\n",
       "      <td>1007</td>\n",
       "      <td>1</td>\n",
       "    </tr>\n",
       "    <tr>\n",
       "      <th>19022</th>\n",
       "      <td>1488</td>\n",
       "      <td>1036</td>\n",
       "      <td>1</td>\n",
       "    </tr>\n",
       "    <tr>\n",
       "      <th>19023</th>\n",
       "      <td>1488</td>\n",
       "      <td>1436</td>\n",
       "      <td>1</td>\n",
       "    </tr>\n",
       "    <tr>\n",
       "      <th>19024</th>\n",
       "      <td>1489</td>\n",
       "      <td>801</td>\n",
       "      <td>1</td>\n",
       "    </tr>\n",
       "  </tbody>\n",
       "</table>\n",
       "<p>19025 rows × 3 columns</p>\n",
       "</div>"
      ],
      "text/plain": [
       "       Source  Target  size\n",
       "0           0      22     1\n",
       "1           0      54     1\n",
       "2           0      84     1\n",
       "3           0     154     1\n",
       "4           0     322     1\n",
       "...       ...     ...   ...\n",
       "19020    1488     999     1\n",
       "19021    1488    1007     1\n",
       "19022    1488    1036     1\n",
       "19023    1488    1436     1\n",
       "19024    1489     801     1\n",
       "\n",
       "[19025 rows x 3 columns]"
      ]
     },
     "execution_count": 2,
     "metadata": {},
     "output_type": "execute_result"
    }
   ],
   "source": [
    "file_edge = './edges_L5.csv'\n",
    "edges = pd.read_csv(file_edge)\n",
    "# count duplicated edges\n",
    "edge_count = edges.groupby(['Source', 'Target'],as_index=False).size()\n",
    "edge_count\n",
    "# 19090 rows to 19025 rows"
   ]
  },
  {
   "cell_type": "code",
   "execution_count": 3,
   "id": "9c796974",
   "metadata": {},
   "outputs": [
    {
     "data": {
      "text/html": [
       "<div>\n",
       "<style scoped>\n",
       "    .dataframe tbody tr th:only-of-type {\n",
       "        vertical-align: middle;\n",
       "    }\n",
       "\n",
       "    .dataframe tbody tr th {\n",
       "        vertical-align: top;\n",
       "    }\n",
       "\n",
       "    .dataframe thead th {\n",
       "        text-align: right;\n",
       "    }\n",
       "</style>\n",
       "<table border=\"1\" class=\"dataframe\">\n",
       "  <thead>\n",
       "    <tr style=\"text-align: right;\">\n",
       "      <th></th>\n",
       "      <th>Source</th>\n",
       "      <th>Target</th>\n",
       "      <th>size</th>\n",
       "    </tr>\n",
       "  </thead>\n",
       "  <tbody>\n",
       "    <tr>\n",
       "      <th>13263</th>\n",
       "      <td>1046</td>\n",
       "      <td>1324</td>\n",
       "      <td>2</td>\n",
       "    </tr>\n",
       "  </tbody>\n",
       "</table>\n",
       "</div>"
      ],
      "text/plain": [
       "       Source  Target  size\n",
       "13263    1046    1324     2"
      ]
     },
     "execution_count": 3,
     "metadata": {},
     "output_type": "execute_result"
    },
    {
     "data": {
      "text/html": [
       "<div>\n",
       "<style scoped>\n",
       "    .dataframe tbody tr th:only-of-type {\n",
       "        vertical-align: middle;\n",
       "    }\n",
       "\n",
       "    .dataframe tbody tr th {\n",
       "        vertical-align: top;\n",
       "    }\n",
       "\n",
       "    .dataframe thead th {\n",
       "        text-align: right;\n",
       "    }\n",
       "</style>\n",
       "<table border=\"1\" class=\"dataframe\">\n",
       "  <thead>\n",
       "    <tr style=\"text-align: right;\">\n",
       "      <th></th>\n",
       "      <th>Source</th>\n",
       "      <th>Target</th>\n",
       "      <th>size</th>\n",
       "    </tr>\n",
       "  </thead>\n",
       "  <tbody>\n",
       "    <tr>\n",
       "      <th>16837</th>\n",
       "      <td>1324</td>\n",
       "      <td>1046</td>\n",
       "      <td>1</td>\n",
       "    </tr>\n",
       "  </tbody>\n",
       "</table>\n",
       "</div>"
      ],
      "text/plain": [
       "       Source  Target  size\n",
       "16837    1324    1046     1"
      ]
     },
     "execution_count": 3,
     "metadata": {},
     "output_type": "execute_result"
    }
   ],
   "source": [
    "# careful:\n",
    "# i-> j is different from j->i. Example:\n",
    "edge_count[(edge_count['Source'] == 1046) & (edge_count['Target'] == 1324)]\n",
    "edge_count[(edge_count['Source'] == 1324) & (edge_count['Target'] == 1046)]"
   ]
  },
  {
   "cell_type": "code",
   "execution_count": 4,
   "id": "906cc4a8",
   "metadata": {},
   "outputs": [
    {
     "data": {
      "text/html": [
       "<div>\n",
       "<style scoped>\n",
       "    .dataframe tbody tr th:only-of-type {\n",
       "        vertical-align: middle;\n",
       "    }\n",
       "\n",
       "    .dataframe tbody tr th {\n",
       "        vertical-align: top;\n",
       "    }\n",
       "\n",
       "    .dataframe thead th {\n",
       "        text-align: right;\n",
       "    }\n",
       "</style>\n",
       "<table border=\"1\" class=\"dataframe\">\n",
       "  <thead>\n",
       "    <tr style=\"text-align: right;\">\n",
       "      <th></th>\n",
       "      <th>Source</th>\n",
       "      <th>Target</th>\n",
       "      <th>size</th>\n",
       "    </tr>\n",
       "  </thead>\n",
       "  <tbody>\n",
       "    <tr>\n",
       "      <th>0</th>\n",
       "      <td>0</td>\n",
       "      <td>22</td>\n",
       "      <td>1</td>\n",
       "    </tr>\n",
       "    <tr>\n",
       "      <th>1</th>\n",
       "      <td>0</td>\n",
       "      <td>54</td>\n",
       "      <td>1</td>\n",
       "    </tr>\n",
       "    <tr>\n",
       "      <th>2</th>\n",
       "      <td>0</td>\n",
       "      <td>84</td>\n",
       "      <td>1</td>\n",
       "    </tr>\n",
       "    <tr>\n",
       "      <th>3</th>\n",
       "      <td>0</td>\n",
       "      <td>154</td>\n",
       "      <td>1</td>\n",
       "    </tr>\n",
       "    <tr>\n",
       "      <th>4</th>\n",
       "      <td>0</td>\n",
       "      <td>322</td>\n",
       "      <td>1</td>\n",
       "    </tr>\n",
       "    <tr>\n",
       "      <th>...</th>\n",
       "      <td>...</td>\n",
       "      <td>...</td>\n",
       "      <td>...</td>\n",
       "    </tr>\n",
       "    <tr>\n",
       "      <th>18661</th>\n",
       "      <td>1458</td>\n",
       "      <td>1478</td>\n",
       "      <td>2</td>\n",
       "    </tr>\n",
       "    <tr>\n",
       "      <th>18670</th>\n",
       "      <td>1459</td>\n",
       "      <td>1478</td>\n",
       "      <td>2</td>\n",
       "    </tr>\n",
       "    <tr>\n",
       "      <th>18735</th>\n",
       "      <td>1460</td>\n",
       "      <td>1462</td>\n",
       "      <td>1</td>\n",
       "    </tr>\n",
       "    <tr>\n",
       "      <th>18736</th>\n",
       "      <td>1460</td>\n",
       "      <td>1477</td>\n",
       "      <td>1</td>\n",
       "    </tr>\n",
       "    <tr>\n",
       "      <th>19015</th>\n",
       "      <td>1487</td>\n",
       "      <td>1488</td>\n",
       "      <td>1</td>\n",
       "    </tr>\n",
       "  </tbody>\n",
       "</table>\n",
       "<p>9520 rows × 3 columns</p>\n",
       "</div>"
      ],
      "text/plain": [
       "       Source  Target  size\n",
       "0           0      22     1\n",
       "1           0      54     1\n",
       "2           0      84     1\n",
       "3           0     154     1\n",
       "4           0     322     1\n",
       "...       ...     ...   ...\n",
       "18661    1458    1478     2\n",
       "18670    1459    1478     2\n",
       "18735    1460    1462     1\n",
       "18736    1460    1477     1\n",
       "19015    1487    1488     1\n",
       "\n",
       "[9520 rows x 3 columns]"
      ]
     },
     "execution_count": 4,
     "metadata": {},
     "output_type": "execute_result"
    }
   ],
   "source": [
    "# add up i->j and j->i edge weighting to all edges where \"source\" always <= \"target\"        \n",
    "for i in range(len(edge_count['Target'])):\n",
    "    if edge_count['Source'][i] < edge_count['Target'][i]:\n",
    "        m = edge_count['Source'][i]\n",
    "        n = edge_count['Target'][i]\n",
    "        # look for reversed direction weighting\n",
    "        x = edge_count[(edge_count['Source'] == n) & (edge_count['Target'] == m)]\n",
    "        if x.empty == False:\n",
    "            re = x['size'].item()\n",
    "            # calculate sum\n",
    "            s = edge_count['size'][i] + re\n",
    "            edge_count['size'][i] =s\n",
    "            #print(i, m, n, re, s)\n",
    "        \n",
    "# slice for edges where \"Source\" <= \"Target\", avoid repetition of counting\n",
    "edge_sum = edge_count[edge_count['Source'] <= edge_count['Target']]\n",
    "edge_sum"
   ]
  },
  {
   "cell_type": "code",
   "execution_count": 5,
   "id": "386f47e6",
   "metadata": {},
   "outputs": [
    {
     "data": {
      "text/plain": [
       "'Graph with 1107 nodes and 9520 edges'"
      ]
     },
     "execution_count": 5,
     "metadata": {},
     "output_type": "execute_result"
    },
    {
     "data": {
      "text/plain": [
       "False"
      ]
     },
     "execution_count": 5,
     "metadata": {},
     "output_type": "execute_result"
    }
   ],
   "source": [
    "G = nx.from_pandas_edgelist(edge_sum, 'Source', 'Target', create_using=nx.Graph(), edge_attr='size')\n",
    "nx.info(G)\n",
    "nx.is_directed(G)"
   ]
  },
  {
   "cell_type": "markdown",
   "id": "44ba928f",
   "metadata": {},
   "source": [
    "A weighted undirected graph of Polblog network consists of 1107 nodes and 9520 edges."
   ]
  },
  {
   "cell_type": "markdown",
   "id": "2624c050",
   "metadata": {},
   "source": [
    "## Q2. Weighted, directed network"
   ]
  },
  {
   "cell_type": "code",
   "execution_count": 6,
   "id": "dd51f592",
   "metadata": {},
   "outputs": [
    {
     "data": {
      "text/html": [
       "<div>\n",
       "<style scoped>\n",
       "    .dataframe tbody tr th:only-of-type {\n",
       "        vertical-align: middle;\n",
       "    }\n",
       "\n",
       "    .dataframe tbody tr th {\n",
       "        vertical-align: top;\n",
       "    }\n",
       "\n",
       "    .dataframe thead th {\n",
       "        text-align: right;\n",
       "    }\n",
       "</style>\n",
       "<table border=\"1\" class=\"dataframe\">\n",
       "  <thead>\n",
       "    <tr style=\"text-align: right;\">\n",
       "      <th></th>\n",
       "      <th>Source</th>\n",
       "      <th>Target</th>\n",
       "      <th>size</th>\n",
       "    </tr>\n",
       "  </thead>\n",
       "  <tbody>\n",
       "    <tr>\n",
       "      <th>0</th>\n",
       "      <td>0</td>\n",
       "      <td>22</td>\n",
       "      <td>1</td>\n",
       "    </tr>\n",
       "    <tr>\n",
       "      <th>1</th>\n",
       "      <td>0</td>\n",
       "      <td>54</td>\n",
       "      <td>1</td>\n",
       "    </tr>\n",
       "    <tr>\n",
       "      <th>2</th>\n",
       "      <td>0</td>\n",
       "      <td>84</td>\n",
       "      <td>1</td>\n",
       "    </tr>\n",
       "    <tr>\n",
       "      <th>3</th>\n",
       "      <td>0</td>\n",
       "      <td>154</td>\n",
       "      <td>1</td>\n",
       "    </tr>\n",
       "    <tr>\n",
       "      <th>4</th>\n",
       "      <td>0</td>\n",
       "      <td>322</td>\n",
       "      <td>1</td>\n",
       "    </tr>\n",
       "    <tr>\n",
       "      <th>...</th>\n",
       "      <td>...</td>\n",
       "      <td>...</td>\n",
       "      <td>...</td>\n",
       "    </tr>\n",
       "    <tr>\n",
       "      <th>19020</th>\n",
       "      <td>1488</td>\n",
       "      <td>999</td>\n",
       "      <td>1</td>\n",
       "    </tr>\n",
       "    <tr>\n",
       "      <th>19021</th>\n",
       "      <td>1488</td>\n",
       "      <td>1007</td>\n",
       "      <td>1</td>\n",
       "    </tr>\n",
       "    <tr>\n",
       "      <th>19022</th>\n",
       "      <td>1488</td>\n",
       "      <td>1036</td>\n",
       "      <td>1</td>\n",
       "    </tr>\n",
       "    <tr>\n",
       "      <th>19023</th>\n",
       "      <td>1488</td>\n",
       "      <td>1436</td>\n",
       "      <td>1</td>\n",
       "    </tr>\n",
       "    <tr>\n",
       "      <th>19024</th>\n",
       "      <td>1489</td>\n",
       "      <td>801</td>\n",
       "      <td>1</td>\n",
       "    </tr>\n",
       "  </tbody>\n",
       "</table>\n",
       "<p>19025 rows × 3 columns</p>\n",
       "</div>"
      ],
      "text/plain": [
       "       Source  Target  size\n",
       "0           0      22     1\n",
       "1           0      54     1\n",
       "2           0      84     1\n",
       "3           0     154     1\n",
       "4           0     322     1\n",
       "...       ...     ...   ...\n",
       "19020    1488     999     1\n",
       "19021    1488    1007     1\n",
       "19022    1488    1036     1\n",
       "19023    1488    1436     1\n",
       "19024    1489     801     1\n",
       "\n",
       "[19025 rows x 3 columns]"
      ]
     },
     "execution_count": 6,
     "metadata": {},
     "output_type": "execute_result"
    }
   ],
   "source": [
    "file_edge = './edges_L5.csv'\n",
    "edges = pd.read_csv(file_edge)\n",
    "# count duplicated edges\n",
    "edge_dups = edges.groupby(['Source', 'Target'],as_index=False).size()\n",
    "edge_dups\n",
    "# 19090 rows to 19025 rows"
   ]
  },
  {
   "cell_type": "code",
   "execution_count": 7,
   "id": "48dc3fb8",
   "metadata": {},
   "outputs": [],
   "source": [
    "edge_weighted_list = edge_dups.values.tolist()"
   ]
  },
  {
   "cell_type": "markdown",
   "id": "fe4a8331",
   "metadata": {},
   "source": [
    "Note: using from_pandas_edgelist will override some edges. no. of edges 19025 -> 16718."
   ]
  },
  {
   "cell_type": "code",
   "execution_count": 8,
   "id": "d433d8d7",
   "metadata": {},
   "outputs": [
    {
     "data": {
      "text/plain": [
       "'DiGraph with 1224 nodes and 19025 edges'"
      ]
     },
     "execution_count": 8,
     "metadata": {},
     "output_type": "execute_result"
    },
    {
     "data": {
      "text/plain": [
       "True"
      ]
     },
     "execution_count": 8,
     "metadata": {},
     "output_type": "execute_result"
    }
   ],
   "source": [
    "G_d = nx.DiGraph()\n",
    "\n",
    "G_d.add_weighted_edges_from(edge_weighted_list)\n",
    "\n",
    "nx.info(G_d)\n",
    "nx.is_directed(G_d)"
   ]
  },
  {
   "cell_type": "markdown",
   "id": "1297a962",
   "metadata": {},
   "source": [
    "A weighted directed graph of Polblog network consists of 1224 nodes and 19025 edges."
   ]
  },
  {
   "cell_type": "markdown",
   "id": "355e57da",
   "metadata": {},
   "source": [
    "# Part II. Bipartite network analysis"
   ]
  },
  {
   "cell_type": "markdown",
   "id": "66d5e54b",
   "metadata": {},
   "source": [
    "## Q3. Network construction and descriptive data"
   ]
  },
  {
   "cell_type": "code",
   "execution_count": 9,
   "id": "50e49630",
   "metadata": {},
   "outputs": [
    {
     "data": {
      "text/html": [
       "<div>\n",
       "<style scoped>\n",
       "    .dataframe tbody tr th:only-of-type {\n",
       "        vertical-align: middle;\n",
       "    }\n",
       "\n",
       "    .dataframe tbody tr th {\n",
       "        vertical-align: top;\n",
       "    }\n",
       "\n",
       "    .dataframe thead th {\n",
       "        text-align: right;\n",
       "    }\n",
       "</style>\n",
       "<table border=\"1\" class=\"dataframe\">\n",
       "  <thead>\n",
       "    <tr style=\"text-align: right;\">\n",
       "      <th></th>\n",
       "      <th># index</th>\n",
       "      <th>idx</th>\n",
       "      <th>pollinator</th>\n",
       "      <th>pol_ge_sp</th>\n",
       "      <th>plant_ge</th>\n",
       "      <th>plant_sp</th>\n",
       "      <th>_pos</th>\n",
       "    </tr>\n",
       "  </thead>\n",
       "  <tbody>\n",
       "    <tr>\n",
       "      <th>0</th>\n",
       "      <td>0</td>\n",
       "      <td>53</td>\n",
       "      <td>1</td>\n",
       "      <td>ACHILIDAE1 (Ach. : Hem. )</td>\n",
       "      <td>NaN</td>\n",
       "      <td>NaN</td>\n",
       "      <td>array([-0.56541095, -2.76309565])</td>\n",
       "    </tr>\n",
       "    <tr>\n",
       "      <th>1</th>\n",
       "      <td>1</td>\n",
       "      <td>1</td>\n",
       "      <td>0</td>\n",
       "      <td>NaN</td>\n",
       "      <td>Acer</td>\n",
       "      <td>rufinerve</td>\n",
       "      <td>array([-0.1164353 , -2.07462624])</td>\n",
       "    </tr>\n",
       "    <tr>\n",
       "      <th>2</th>\n",
       "      <td>2</td>\n",
       "      <td>2</td>\n",
       "      <td>0</td>\n",
       "      <td>NaN</td>\n",
       "      <td>Adenocaulon</td>\n",
       "      <td>himalaicum</td>\n",
       "      <td>array([-0.12344886, -2.43315122])</td>\n",
       "    </tr>\n",
       "    <tr>\n",
       "      <th>3</th>\n",
       "      <td>3</td>\n",
       "      <td>3</td>\n",
       "      <td>0</td>\n",
       "      <td>NaN</td>\n",
       "      <td>Aesculus</td>\n",
       "      <td>turbinata</td>\n",
       "      <td>array([-0.14942567, -2.65879824])</td>\n",
       "    </tr>\n",
       "    <tr>\n",
       "      <th>4</th>\n",
       "      <td>4</td>\n",
       "      <td>4</td>\n",
       "      <td>0</td>\n",
       "      <td>NaN</td>\n",
       "      <td>Agrimonia</td>\n",
       "      <td>pilosa</td>\n",
       "      <td>array([-0.1462946 , -2.48239974])</td>\n",
       "    </tr>\n",
       "    <tr>\n",
       "      <th>...</th>\n",
       "      <td>...</td>\n",
       "      <td>...</td>\n",
       "      <td>...</td>\n",
       "      <td>...</td>\n",
       "      <td>...</td>\n",
       "      <td>...</td>\n",
       "      <td>...</td>\n",
       "    </tr>\n",
       "    <tr>\n",
       "      <th>767</th>\n",
       "      <td>767</td>\n",
       "      <td>675</td>\n",
       "      <td>1</td>\n",
       "      <td>LUSIIDAE1 (Clu. : Dip. )</td>\n",
       "      <td>NaN</td>\n",
       "      <td>NaN</td>\n",
       "      <td>array([-0.4119717 , -2.51722849])</td>\n",
       "    </tr>\n",
       "    <tr>\n",
       "      <th>768</th>\n",
       "      <td>768</td>\n",
       "      <td>676</td>\n",
       "      <td>1</td>\n",
       "      <td>Lasioglossum (El.) aff (Hal. : Hym )</td>\n",
       "      <td>NaN</td>\n",
       "      <td>NaN</td>\n",
       "      <td>array([-0.40843003, -2.83585683])</td>\n",
       "    </tr>\n",
       "    <tr>\n",
       "      <th>769</th>\n",
       "      <td>769</td>\n",
       "      <td>677</td>\n",
       "      <td>1</td>\n",
       "      <td>Camponotus sp. (For. : Hym. )</td>\n",
       "      <td>NaN</td>\n",
       "      <td>NaN</td>\n",
       "      <td>array([-0.36137743, -1.97689426])</td>\n",
       "    </tr>\n",
       "    <tr>\n",
       "      <th>770</th>\n",
       "      <td>770</td>\n",
       "      <td>678</td>\n",
       "      <td>1</td>\n",
       "      <td>Andrena sp. (And. : Hym. )</td>\n",
       "      <td>NaN</td>\n",
       "      <td>NaN</td>\n",
       "      <td>array([-0.23316587, -2.03744439])</td>\n",
       "    </tr>\n",
       "    <tr>\n",
       "      <th>771</th>\n",
       "      <td>771</td>\n",
       "      <td>679</td>\n",
       "      <td>1</td>\n",
       "      <td>Ceratina sp. (Ant. : Hym.)</td>\n",
       "      <td>NaN</td>\n",
       "      <td>NaN</td>\n",
       "      <td>array([-0.21459386, -2.64034042])</td>\n",
       "    </tr>\n",
       "  </tbody>\n",
       "</table>\n",
       "<p>772 rows × 7 columns</p>\n",
       "</div>"
      ],
      "text/plain": [
       "     # index  idx  pollinator                             pol_ge_sp  \\\n",
       "0          0   53           1             ACHILIDAE1 (Ach. : Hem. )   \n",
       "1          1    1           0                                   NaN   \n",
       "2          2    2           0                                   NaN   \n",
       "3          3    3           0                                   NaN   \n",
       "4          4    4           0                                   NaN   \n",
       "..       ...  ...         ...                                   ...   \n",
       "767      767  675           1              LUSIIDAE1 (Clu. : Dip. )   \n",
       "768      768  676           1  Lasioglossum (El.) aff (Hal. : Hym )   \n",
       "769      769  677           1         Camponotus sp. (For. : Hym. )   \n",
       "770      770  678           1            Andrena sp. (And. : Hym. )   \n",
       "771      771  679           1            Ceratina sp. (Ant. : Hym.)   \n",
       "\n",
       "        plant_ge    plant_sp                               _pos  \n",
       "0            NaN         NaN  array([-0.56541095, -2.76309565])  \n",
       "1           Acer   rufinerve  array([-0.1164353 , -2.07462624])  \n",
       "2    Adenocaulon  himalaicum  array([-0.12344886, -2.43315122])  \n",
       "3       Aesculus   turbinata  array([-0.14942567, -2.65879824])  \n",
       "4      Agrimonia      pilosa  array([-0.1462946 , -2.48239974])  \n",
       "..           ...         ...                                ...  \n",
       "767          NaN         NaN  array([-0.4119717 , -2.51722849])  \n",
       "768          NaN         NaN  array([-0.40843003, -2.83585683])  \n",
       "769          NaN         NaN  array([-0.36137743, -1.97689426])  \n",
       "770          NaN         NaN  array([-0.23316587, -2.03744439])  \n",
       "771          NaN         NaN  array([-0.21459386, -2.64034042])  \n",
       "\n",
       "[772 rows x 7 columns]"
      ]
     },
     "execution_count": 9,
     "metadata": {},
     "output_type": "execute_result"
    }
   ],
   "source": [
    "from networkx.algorithms import bipartite\n",
    "\n",
    "# Add nodes with the node attribute \"bipartite\"\n",
    "file_node = './nodes_L7.csv'\n",
    "nodes = pd.read_csv(file_node)\n",
    "nodes"
   ]
  },
  {
   "cell_type": "code",
   "execution_count": 10,
   "id": "4c47e582",
   "metadata": {},
   "outputs": [
    {
     "data": {
      "text/plain": [
       "'Graph with 772 nodes and 0 edges'"
      ]
     },
     "execution_count": 10,
     "metadata": {},
     "output_type": "execute_result"
    }
   ],
   "source": [
    "# split into two node_set\n",
    "node_insect = nodes[nodes['pollinator'] == 1]\n",
    "#node_insect 679\n",
    "node_plant = nodes[nodes['pollinator'] == 0]\n",
    "#node_plant 93\n",
    "\n",
    "G1 = nx.Graph()\n",
    "\n",
    "G1.add_nodes_from(node_insect[\"# index\"], bipartite=1)\n",
    "G1.add_nodes_from(node_plant[\"# index\"], bipartite=0)\n",
    "\n",
    "nx.info(G1)"
   ]
  },
  {
   "cell_type": "code",
   "execution_count": 11,
   "id": "2f1e6a6c",
   "metadata": {},
   "outputs": [
    {
     "data": {
      "text/html": [
       "<div>\n",
       "<style scoped>\n",
       "    .dataframe tbody tr th:only-of-type {\n",
       "        vertical-align: middle;\n",
       "    }\n",
       "\n",
       "    .dataframe tbody tr th {\n",
       "        vertical-align: top;\n",
       "    }\n",
       "\n",
       "    .dataframe thead th {\n",
       "        text-align: right;\n",
       "    }\n",
       "</style>\n",
       "<table border=\"1\" class=\"dataframe\">\n",
       "  <thead>\n",
       "    <tr style=\"text-align: right;\">\n",
       "      <th></th>\n",
       "      <th># source</th>\n",
       "      <th>target</th>\n",
       "      <th>count</th>\n",
       "    </tr>\n",
       "  </thead>\n",
       "  <tbody>\n",
       "    <tr>\n",
       "      <th>0</th>\n",
       "      <td>0</td>\n",
       "      <td>40</td>\n",
       "      <td>1</td>\n",
       "    </tr>\n",
       "    <tr>\n",
       "      <th>1</th>\n",
       "      <td>94</td>\n",
       "      <td>34</td>\n",
       "      <td>1</td>\n",
       "    </tr>\n",
       "    <tr>\n",
       "      <th>2</th>\n",
       "      <td>95</td>\n",
       "      <td>12</td>\n",
       "      <td>1</td>\n",
       "    </tr>\n",
       "    <tr>\n",
       "      <th>3</th>\n",
       "      <td>95</td>\n",
       "      <td>39</td>\n",
       "      <td>1</td>\n",
       "    </tr>\n",
       "    <tr>\n",
       "      <th>4</th>\n",
       "      <td>96</td>\n",
       "      <td>55</td>\n",
       "      <td>1</td>\n",
       "    </tr>\n",
       "    <tr>\n",
       "      <th>...</th>\n",
       "      <td>...</td>\n",
       "      <td>...</td>\n",
       "      <td>...</td>\n",
       "    </tr>\n",
       "    <tr>\n",
       "      <th>1201</th>\n",
       "      <td>767</td>\n",
       "      <td>31</td>\n",
       "      <td>3</td>\n",
       "    </tr>\n",
       "    <tr>\n",
       "      <th>1202</th>\n",
       "      <td>768</td>\n",
       "      <td>41</td>\n",
       "      <td>1</td>\n",
       "    </tr>\n",
       "    <tr>\n",
       "      <th>1203</th>\n",
       "      <td>769</td>\n",
       "      <td>12</td>\n",
       "      <td>1</td>\n",
       "    </tr>\n",
       "    <tr>\n",
       "      <th>1204</th>\n",
       "      <td>770</td>\n",
       "      <td>12</td>\n",
       "      <td>1</td>\n",
       "    </tr>\n",
       "    <tr>\n",
       "      <th>1205</th>\n",
       "      <td>771</td>\n",
       "      <td>14</td>\n",
       "      <td>1</td>\n",
       "    </tr>\n",
       "  </tbody>\n",
       "</table>\n",
       "<p>1206 rows × 3 columns</p>\n",
       "</div>"
      ],
      "text/plain": [
       "      # source  target  count\n",
       "0            0      40      1\n",
       "1           94      34      1\n",
       "2           95      12      1\n",
       "3           95      39      1\n",
       "4           96      55      1\n",
       "...        ...     ...    ...\n",
       "1201       767      31      3\n",
       "1202       768      41      1\n",
       "1203       769      12      1\n",
       "1204       770      12      1\n",
       "1205       771      14      1\n",
       "\n",
       "[1206 rows x 3 columns]"
      ]
     },
     "execution_count": 11,
     "metadata": {},
     "output_type": "execute_result"
    },
    {
     "data": {
      "text/plain": [
       "'Graph with 772 nodes and 1206 edges'"
      ]
     },
     "execution_count": 11,
     "metadata": {},
     "output_type": "execute_result"
    },
    {
     "data": {
      "text/plain": [
       "True"
      ]
     },
     "execution_count": 11,
     "metadata": {},
     "output_type": "execute_result"
    },
    {
     "data": {
      "text/plain": [
       "False"
      ]
     },
     "execution_count": 11,
     "metadata": {},
     "output_type": "execute_result"
    }
   ],
   "source": [
    "# add weighted edges\n",
    "file_edge = \"./edges_L7.csv\"\n",
    "edges = pd.read_csv(file_edge)\n",
    "edge_weighted_list = edges.values.tolist()\n",
    "edges\n",
    "\n",
    "G1.add_weighted_edges_from(edge_weighted_list)\n",
    "\n",
    "nx.info(G1)\n",
    "nx.is_bipartite(G1)\n",
    "nx.is_directed(G1)"
   ]
  },
  {
   "cell_type": "code",
   "execution_count": 12,
   "id": "4ff0f8cd",
   "metadata": {},
   "outputs": [],
   "source": [
    "# index of plant nodeset\n",
    "node_set_plant = {n for n, d in G1.nodes(data=True) if d[\"bipartite\"] == 0}\n",
    "# index of insect nodeset\n",
    "node_set_insect = {n for n, d in G1.nodes(data=True) if d[\"bipartite\"] == 1}"
   ]
  },
  {
   "cell_type": "markdown",
   "id": "3dcb02c4",
   "metadata": {},
   "source": [
    "## Q4. Degree "
   ]
  },
  {
   "cell_type": "code",
   "execution_count": 13,
   "id": "9304adfb",
   "metadata": {},
   "outputs": [
    {
     "data": {
      "text/plain": [
       "25"
      ]
     },
     "execution_count": 13,
     "metadata": {},
     "output_type": "execute_result"
    },
    {
     "data": {
      "text/plain": [
       "196"
      ]
     },
     "execution_count": 13,
     "metadata": {},
     "output_type": "execute_result"
    },
    {
     "data": {
      "text/html": [
       "<div>\n",
       "<style scoped>\n",
       "    .dataframe tbody tr th:only-of-type {\n",
       "        vertical-align: middle;\n",
       "    }\n",
       "\n",
       "    .dataframe tbody tr th {\n",
       "        vertical-align: top;\n",
       "    }\n",
       "\n",
       "    .dataframe thead th {\n",
       "        text-align: right;\n",
       "    }\n",
       "</style>\n",
       "<table border=\"1\" class=\"dataframe\">\n",
       "  <thead>\n",
       "    <tr style=\"text-align: right;\">\n",
       "      <th></th>\n",
       "      <th># index</th>\n",
       "      <th>idx</th>\n",
       "      <th>pollinator</th>\n",
       "      <th>pol_ge_sp</th>\n",
       "      <th>plant_ge</th>\n",
       "      <th>plant_sp</th>\n",
       "      <th>_pos</th>\n",
       "    </tr>\n",
       "  </thead>\n",
       "  <tbody>\n",
       "    <tr>\n",
       "      <th>196</th>\n",
       "      <td>196</td>\n",
       "      <td>669</td>\n",
       "      <td>1</td>\n",
       "      <td>Bombus (Diversobombus) diversus diversus (Api....</td>\n",
       "      <td>NaN</td>\n",
       "      <td>NaN</td>\n",
       "      <td>array([-0.11829727, -2.59203444])</td>\n",
       "    </tr>\n",
       "  </tbody>\n",
       "</table>\n",
       "</div>"
      ],
      "text/plain": [
       "     # index  idx  pollinator  \\\n",
       "196      196  669           1   \n",
       "\n",
       "                                             pol_ge_sp plant_ge plant_sp  \\\n",
       "196  Bombus (Diversobombus) diversus diversus (Api....      NaN      NaN   \n",
       "\n",
       "                                  _pos  \n",
       "196  array([-0.11829727, -2.59203444])  "
      ]
     },
     "execution_count": 13,
     "metadata": {},
     "output_type": "execute_result"
    },
    {
     "data": {
      "text/plain": [
       "189"
      ]
     },
     "execution_count": 13,
     "metadata": {},
     "output_type": "execute_result"
    },
    {
     "data": {
      "text/plain": [
       "12"
      ]
     },
     "execution_count": 13,
     "metadata": {},
     "output_type": "execute_result"
    },
    {
     "data": {
      "text/html": [
       "<div>\n",
       "<style scoped>\n",
       "    .dataframe tbody tr th:only-of-type {\n",
       "        vertical-align: middle;\n",
       "    }\n",
       "\n",
       "    .dataframe tbody tr th {\n",
       "        vertical-align: top;\n",
       "    }\n",
       "\n",
       "    .dataframe thead th {\n",
       "        text-align: right;\n",
       "    }\n",
       "</style>\n",
       "<table border=\"1\" class=\"dataframe\">\n",
       "  <thead>\n",
       "    <tr style=\"text-align: right;\">\n",
       "      <th></th>\n",
       "      <th># index</th>\n",
       "      <th>idx</th>\n",
       "      <th>pollinator</th>\n",
       "      <th>pol_ge_sp</th>\n",
       "      <th>plant_ge</th>\n",
       "      <th>plant_sp</th>\n",
       "      <th>_pos</th>\n",
       "    </tr>\n",
       "  </thead>\n",
       "  <tbody>\n",
       "    <tr>\n",
       "      <th>12</th>\n",
       "      <td>12</td>\n",
       "      <td>12</td>\n",
       "      <td>0</td>\n",
       "      <td>NaN</td>\n",
       "      <td>Anthriscus</td>\n",
       "      <td>aemula</td>\n",
       "      <td>array([-0.39090413, -2.13981384])</td>\n",
       "    </tr>\n",
       "  </tbody>\n",
       "</table>\n",
       "</div>"
      ],
      "text/plain": [
       "    # index  idx  pollinator pol_ge_sp    plant_ge plant_sp  \\\n",
       "12       12   12           0       NaN  Anthriscus   aemula   \n",
       "\n",
       "                                 _pos  \n",
       "12  array([-0.39090413, -2.13981384])  "
      ]
     },
     "execution_count": 13,
     "metadata": {},
     "output_type": "execute_result"
    }
   ],
   "source": [
    "degX, degY = bipartite.degrees(G1, node_set_plant)\n",
    "deg_insect = dict(degX)\n",
    "deg_plant = dict(degY)\n",
    "\n",
    "# highest degree\n",
    "max(deg_insect.values())\n",
    "# insect with highest degree\n",
    "max(deg_insect, key=deg_insect.get)\n",
    "# get node info\n",
    "nodes[nodes[\"# index\"]==196]\n",
    "\n",
    "# highest degree\n",
    "max(deg_plant.values())\n",
    "# plant with highest degree\n",
    "max(deg_plant, key=deg_plant.get)\n",
    "# get node info\n",
    "nodes[nodes[\"# index\"]==12]\n"
   ]
  },
  {
   "cell_type": "markdown",
   "id": "c98ea6de",
   "metadata": {},
   "source": [
    "## Q5. Common neighbors of insects - competiveness"
   ]
  },
  {
   "cell_type": "code",
   "execution_count": 14,
   "id": "23f5b523",
   "metadata": {},
   "outputs": [
    {
     "data": {
      "text/plain": [
       "10"
      ]
     },
     "execution_count": 14,
     "metadata": {},
     "output_type": "execute_result"
    },
    {
     "data": {
      "text/plain": [
       "196"
      ]
     },
     "execution_count": 14,
     "metadata": {},
     "output_type": "execute_result"
    },
    {
     "data": {
      "text/plain": [
       "198"
      ]
     },
     "execution_count": 14,
     "metadata": {},
     "output_type": "execute_result"
    },
    {
     "data": {
      "text/html": [
       "<div>\n",
       "<style scoped>\n",
       "    .dataframe tbody tr th:only-of-type {\n",
       "        vertical-align: middle;\n",
       "    }\n",
       "\n",
       "    .dataframe tbody tr th {\n",
       "        vertical-align: top;\n",
       "    }\n",
       "\n",
       "    .dataframe thead th {\n",
       "        text-align: right;\n",
       "    }\n",
       "</style>\n",
       "<table border=\"1\" class=\"dataframe\">\n",
       "  <thead>\n",
       "    <tr style=\"text-align: right;\">\n",
       "      <th></th>\n",
       "      <th># index</th>\n",
       "      <th>idx</th>\n",
       "      <th>pollinator</th>\n",
       "      <th>pol_ge_sp</th>\n",
       "      <th>plant_ge</th>\n",
       "      <th>plant_sp</th>\n",
       "      <th>_pos</th>\n",
       "    </tr>\n",
       "  </thead>\n",
       "  <tbody>\n",
       "    <tr>\n",
       "      <th>196</th>\n",
       "      <td>196</td>\n",
       "      <td>669</td>\n",
       "      <td>1</td>\n",
       "      <td>Bombus (Diversobombus) diversus diversus (Api....</td>\n",
       "      <td>NaN</td>\n",
       "      <td>NaN</td>\n",
       "      <td>array([-0.11829727, -2.59203444])</td>\n",
       "    </tr>\n",
       "  </tbody>\n",
       "</table>\n",
       "</div>"
      ],
      "text/plain": [
       "     # index  idx  pollinator  \\\n",
       "196      196  669           1   \n",
       "\n",
       "                                             pol_ge_sp plant_ge plant_sp  \\\n",
       "196  Bombus (Diversobombus) diversus diversus (Api....      NaN      NaN   \n",
       "\n",
       "                                  _pos  \n",
       "196  array([-0.11829727, -2.59203444])  "
      ]
     },
     "execution_count": 14,
     "metadata": {},
     "output_type": "execute_result"
    },
    {
     "data": {
      "text/html": [
       "<div>\n",
       "<style scoped>\n",
       "    .dataframe tbody tr th:only-of-type {\n",
       "        vertical-align: middle;\n",
       "    }\n",
       "\n",
       "    .dataframe tbody tr th {\n",
       "        vertical-align: top;\n",
       "    }\n",
       "\n",
       "    .dataframe thead th {\n",
       "        text-align: right;\n",
       "    }\n",
       "</style>\n",
       "<table border=\"1\" class=\"dataframe\">\n",
       "  <thead>\n",
       "    <tr style=\"text-align: right;\">\n",
       "      <th></th>\n",
       "      <th># index</th>\n",
       "      <th>idx</th>\n",
       "      <th>pollinator</th>\n",
       "      <th>pol_ge_sp</th>\n",
       "      <th>plant_ge</th>\n",
       "      <th>plant_sp</th>\n",
       "      <th>_pos</th>\n",
       "    </tr>\n",
       "  </thead>\n",
       "  <tbody>\n",
       "    <tr>\n",
       "      <th>198</th>\n",
       "      <td>198</td>\n",
       "      <td>671</td>\n",
       "      <td>1</td>\n",
       "      <td>Bombus (Thoracobombus) honshuensis (Api. : Hym. )</td>\n",
       "      <td>NaN</td>\n",
       "      <td>NaN</td>\n",
       "      <td>array([-0.18228285, -2.61757552])</td>\n",
       "    </tr>\n",
       "  </tbody>\n",
       "</table>\n",
       "</div>"
      ],
      "text/plain": [
       "     # index  idx  pollinator  \\\n",
       "198      198  671           1   \n",
       "\n",
       "                                             pol_ge_sp plant_ge plant_sp  \\\n",
       "198  Bombus (Thoracobombus) honshuensis (Api. : Hym. )      NaN      NaN   \n",
       "\n",
       "                                  _pos  \n",
       "198  array([-0.18228285, -2.61757552])  "
      ]
     },
     "execution_count": 14,
     "metadata": {},
     "output_type": "execute_result"
    }
   ],
   "source": [
    "max_common_neighbor = 0\n",
    "\n",
    "for u in node_set_insect:\n",
    "    for v in node_set_insect:\n",
    "        if u != v:\n",
    "            if  max_common_neighbor < len(sorted(nx.common_neighbors(G1, u, v))):\n",
    "                max_common_neighbor = len(sorted(nx.common_neighbors(G1, u, v)))\n",
    "                max_u = u\n",
    "                max_v = v\n",
    "                #print(u,v, max_common_neighbor)\n",
    "\n",
    "max_common_neighbor\n",
    "max_u\n",
    "max_v\n",
    "\n",
    "# get node info\n",
    "nodes[nodes[\"# index\"]==max_u]\n",
    "nodes[nodes[\"# index\"]==max_v]\n"
   ]
  },
  {
   "cell_type": "markdown",
   "id": "7dc9bf10",
   "metadata": {},
   "source": [
    "## Q6. Projection"
   ]
  },
  {
   "cell_type": "code",
   "execution_count": 15,
   "id": "4b43cc45",
   "metadata": {},
   "outputs": [
    {
     "data": {
      "text/plain": [
       "'Graph with 679 nodes and 31443 edges'"
      ]
     },
     "execution_count": 15,
     "metadata": {},
     "output_type": "execute_result"
    },
    {
     "data": {
      "text/plain": [
       "'Graph with 93 nodes and 1345 edges'"
      ]
     },
     "execution_count": 15,
     "metadata": {},
     "output_type": "execute_result"
    }
   ],
   "source": [
    "\n",
    "G1_insect = bipartite.weighted_projected_graph(G1,node_set_insect)\n",
    "nx.info(G1_insect)\n",
    "\n",
    "#pos = nx.spring_layout(G1_insect)\n",
    "#nx.draw_networkx(G1_insect, pos = pos)\n",
    "\n",
    "G1_plant = bipartite.weighted_projected_graph(G1,node_set_plant)\n",
    "nx.info(G1_plant)\n",
    "\n",
    "#pos = nx.spring_layout(G1_plant)\n",
    "#nx.draw_networkx(G1_plant, pos = pos)"
   ]
  },
  {
   "cell_type": "markdown",
   "id": "0920e066",
   "metadata": {},
   "source": [
    "## Q7. Degree centrality"
   ]
  },
  {
   "cell_type": "code",
   "execution_count": 24,
   "id": "a92dbfb1",
   "metadata": {},
   "outputs": [
    {
     "data": {
      "text/plain": [
       "0.7168141592920354"
      ]
     },
     "execution_count": 24,
     "metadata": {},
     "output_type": "execute_result"
    },
    {
     "data": {
      "text/plain": [
       "398"
      ]
     },
     "execution_count": 24,
     "metadata": {},
     "output_type": "execute_result"
    },
    {
     "data": {
      "text/html": [
       "<div>\n",
       "<style scoped>\n",
       "    .dataframe tbody tr th:only-of-type {\n",
       "        vertical-align: middle;\n",
       "    }\n",
       "\n",
       "    .dataframe tbody tr th {\n",
       "        vertical-align: top;\n",
       "    }\n",
       "\n",
       "    .dataframe thead th {\n",
       "        text-align: right;\n",
       "    }\n",
       "</style>\n",
       "<table border=\"1\" class=\"dataframe\">\n",
       "  <thead>\n",
       "    <tr style=\"text-align: right;\">\n",
       "      <th></th>\n",
       "      <th># index</th>\n",
       "      <th>idx</th>\n",
       "      <th>pollinator</th>\n",
       "      <th>pol_ge_sp</th>\n",
       "      <th>plant_ge</th>\n",
       "      <th>plant_sp</th>\n",
       "      <th>_pos</th>\n",
       "    </tr>\n",
       "  </thead>\n",
       "  <tbody>\n",
       "    <tr>\n",
       "      <th>398</th>\n",
       "      <td>398</td>\n",
       "      <td>210</td>\n",
       "      <td>1</td>\n",
       "      <td>Eristalis cerealis (Syr. : Dip. )</td>\n",
       "      <td>NaN</td>\n",
       "      <td>NaN</td>\n",
       "      <td>array([-0.28188495, -2.50344515])</td>\n",
       "    </tr>\n",
       "  </tbody>\n",
       "</table>\n",
       "</div>"
      ],
      "text/plain": [
       "     # index  idx  pollinator                          pol_ge_sp plant_ge  \\\n",
       "398      398  210           1  Eristalis cerealis (Syr. : Dip. )      NaN   \n",
       "\n",
       "    plant_sp                               _pos  \n",
       "398      NaN  array([-0.28188495, -2.50344515])  "
      ]
     },
     "execution_count": 24,
     "metadata": {},
     "output_type": "execute_result"
    },
    {
     "data": {
      "text/plain": [
       "0.7826086956521738"
      ]
     },
     "execution_count": 24,
     "metadata": {},
     "output_type": "execute_result"
    },
    {
     "data": {
      "text/plain": [
       "90"
      ]
     },
     "execution_count": 24,
     "metadata": {},
     "output_type": "execute_result"
    },
    {
     "data": {
      "text/html": [
       "<div>\n",
       "<style scoped>\n",
       "    .dataframe tbody tr th:only-of-type {\n",
       "        vertical-align: middle;\n",
       "    }\n",
       "\n",
       "    .dataframe tbody tr th {\n",
       "        vertical-align: top;\n",
       "    }\n",
       "\n",
       "    .dataframe thead th {\n",
       "        text-align: right;\n",
       "    }\n",
       "</style>\n",
       "<table border=\"1\" class=\"dataframe\">\n",
       "  <thead>\n",
       "    <tr style=\"text-align: right;\">\n",
       "      <th></th>\n",
       "      <th># index</th>\n",
       "      <th>idx</th>\n",
       "      <th>pollinator</th>\n",
       "      <th>pol_ge_sp</th>\n",
       "      <th>plant_ge</th>\n",
       "      <th>plant_sp</th>\n",
       "      <th>_pos</th>\n",
       "    </tr>\n",
       "  </thead>\n",
       "  <tbody>\n",
       "    <tr>\n",
       "      <th>90</th>\n",
       "      <td>90</td>\n",
       "      <td>90</td>\n",
       "      <td>0</td>\n",
       "      <td>NaN</td>\n",
       "      <td>Weigela</td>\n",
       "      <td>hortensis</td>\n",
       "      <td>array([-0.20496239, -2.41017397])</td>\n",
       "    </tr>\n",
       "  </tbody>\n",
       "</table>\n",
       "</div>"
      ],
      "text/plain": [
       "    # index  idx  pollinator pol_ge_sp plant_ge   plant_sp  \\\n",
       "90       90   90           0       NaN  Weigela  hortensis   \n",
       "\n",
       "                                 _pos  \n",
       "90  array([-0.20496239, -2.41017397])  "
      ]
     },
     "execution_count": 24,
     "metadata": {},
     "output_type": "execute_result"
    }
   ],
   "source": [
    "# insects\n",
    "# highest degree centrality\n",
    "max(nx.degree_centrality(G1_insect).values())\n",
    "# insect with highest degree centrality\n",
    "max(nx.degree_centrality(G1_insect), key=nx.degree_centrality(G1_insect).get)\n",
    "# get node info\n",
    "nodes[nodes[\"# index\"]==398]\n",
    "\n",
    "# plants\n",
    "# highest degree centrality\n",
    "max(nx.degree_centrality(G1_plant).values())\n",
    "# plant with highest degree centrality\n",
    "max(nx.degree_centrality(G1_plant), key=nx.degree_centrality(G1_plant).get)\n",
    "\n",
    "# get node info\n",
    "nodes[nodes[\"# index\"]==90]"
   ]
  },
  {
   "cell_type": "markdown",
   "id": "03493bf2",
   "metadata": {},
   "source": [
    "## Q8. Isolated nodes"
   ]
  },
  {
   "cell_type": "code",
   "execution_count": 17,
   "id": "0ccf0886",
   "metadata": {},
   "outputs": [
    {
     "data": {
      "text/plain": [
       "[586]"
      ]
     },
     "execution_count": 17,
     "metadata": {},
     "output_type": "execute_result"
    },
    {
     "data": {
      "text/plain": [
       "[17, 29, 80]"
      ]
     },
     "execution_count": 17,
     "metadata": {},
     "output_type": "execute_result"
    }
   ],
   "source": [
    "#list(nx.isolates(G1))\n",
    "\n",
    "list(nx.isolates(G1_insect))\n",
    "\n",
    "list(nx.isolates(G1_plant))"
   ]
  },
  {
   "cell_type": "markdown",
   "id": "2c2bdae9",
   "metadata": {},
   "source": [
    "## Q9. Cluster Analysis"
   ]
  },
  {
   "cell_type": "markdown",
   "id": "ff7d8f3d",
   "metadata": {},
   "source": [
    "This part is done in Gephi and shown in the report."
   ]
  },
  {
   "cell_type": "markdown",
   "id": "8fc17263",
   "metadata": {},
   "source": [
    "## Q10. Degree assortativity coefficient"
   ]
  },
  {
   "cell_type": "code",
   "execution_count": 18,
   "id": "7b684fc2",
   "metadata": {},
   "outputs": [
    {
     "data": {
      "text/plain": [
       "0.1497355073187676"
      ]
     },
     "execution_count": 18,
     "metadata": {},
     "output_type": "execute_result"
    },
    {
     "data": {
      "text/plain": [
       "-0.15103115294930522"
      ]
     },
     "execution_count": 18,
     "metadata": {},
     "output_type": "execute_result"
    }
   ],
   "source": [
    "from networkx.algorithms.assortativity import *\n",
    "degree_assortativity_coefficient(G1_insect)\n",
    "degree_assortativity_coefficient(G1_plant)\n"
   ]
  },
  {
   "cell_type": "markdown",
   "id": "031c7270",
   "metadata": {},
   "source": [
    "## Q11. Visualisation"
   ]
  },
  {
   "cell_type": "markdown",
   "id": "b518f0ce",
   "metadata": {},
   "source": [
    "Visualsation is perfromed in Gephi and can be found in the report."
   ]
  },
  {
   "cell_type": "markdown",
   "id": "7291be7a",
   "metadata": {},
   "source": [
    "# Part III. Bonus"
   ]
  },
  {
   "cell_type": "code",
   "execution_count": 21,
   "id": "f6c0d116",
   "metadata": {},
   "outputs": [],
   "source": [
    "from networkx.algorithms import bipartite\n",
    "B = nx.Graph()\n",
    "B.add_nodes_from(['BSDS3002','BSDS3001','BSDS3003'],bipartite=0)\n",
    "B.add_nodes_from(['John','Arthur','Ben','Jasmine','Jack','Yvonne'],bipartite=1)\n",
    "B.add_edges_from([('BSDS3002','John'),('BSDS3001','John'),('BSDS3003','John'),('BSDS3001','Arthur'),('BSDS3003','Arthur')\\\n",
    "                 ,('BSDS3003','Ben'),('BSDS3002','Jack'),('BSDS3002','Yvonne'),('BSDS3002','Jasmine'),('BSDS3003','Jasmine')\\\n",
    "                 ,('BSDS3001','Jasmine'),('BSDS3003','Jack')])\n"
   ]
  },
  {
   "cell_type": "code",
   "execution_count": 22,
   "id": "f7ebe019",
   "metadata": {},
   "outputs": [
    {
     "data": {
      "image/png": "[encoded data removed]",
      "text/plain": [
       "<Figure size 432x288 with 1 Axes>"
      ]
     },
     "metadata": {},
     "output_type": "display_data"
    }
   ],
   "source": [
    "pos = nx.bipartite_layout(B,('BSDS3001','BSDS3002','BSDS3003'))\n",
    "\n",
    "Class = {n for n, d in B.nodes(data=True) if d[\"bipartite\"] == 0}\n",
    "\n",
    "nx.draw_networkx(B,node_color = ['brown' if j[1]['bipartite']==0 else 'blue' for j in B.nodes(data=True)],pos=pos)"
   ]
  },
  {
   "cell_type": "markdown",
   "id": "b51f8fec",
   "metadata": {},
   "source": [
    "Set the label position of \"class\" nodes to the left of the red nodes, and the labels of the students to the right of the nodes."
   ]
  },
  {
   "cell_type": "code",
   "execution_count": 23,
   "id": "7379c850",
   "metadata": {},
   "outputs": [
    {
     "data": {
      "text/plain": [
       "{'BSDS3002': Text(-1.7, -0.5625, 'BSDS3002'),\n",
       " 'BSDS3001': Text(-1.7, 0.5625, 'BSDS3001'),\n",
       " 'BSDS3003': Text(-1.7, -2.0816681711721685e-17, 'BSDS3003'),\n",
       " 'John': Text(0.85, -0.5625, 'John'),\n",
       " 'Arthur': Text(0.85, 0.5625, 'Arthur'),\n",
       " 'Ben': Text(0.85, 0.3375, 'Ben'),\n",
       " 'Jasmine': Text(0.85, 0.11250000000000009, 'Jasmine'),\n",
       " 'Jack': Text(0.85, -0.33749999999999997, 'Jack'),\n",
       " 'Yvonne': Text(0.85, -0.11249999999999999, 'Yvonne')}"
      ]
     },
     "execution_count": 23,
     "metadata": {},
     "output_type": "execute_result"
    },
    {
     "data": {
      "text/plain": [
       "(-2.0835, 1.1835)"
      ]
     },
     "execution_count": 23,
     "metadata": {},
     "output_type": "execute_result"
    },
    {
     "data": {
      "image/png": "[encoded data removed]",
      "text/plain": [
       "<Figure size 864x432 with 2 Axes>"
      ]
     },
     "metadata": {},
     "output_type": "display_data"
    }
   ],
   "source": [
    "import networkx as nx\n",
    "import matplotlib.pyplot as plt\n",
    "\n",
    "def nudge(pos, x_shift, y_shift):\n",
    "    return {n:(x * x_shift, y + y_shift) for n,(x,y) in pos.items()}\n",
    "\n",
    "pos = nx.bipartite_layout(B,('BSDS3001','BSDS3002','BSDS3003'))\n",
    "pos_nodes = nudge(pos, 1.7, 0)                              # shift the layout\n",
    "\n",
    "fig, ax = plt.subplots(1,2,figsize=(12,6))\n",
    "# default labeling\n",
    "nx.draw_networkx(B,node_color = ['brown' if j[1]['bipartite']==0 else 'blue' for j in B.nodes(data=True)],pos=pos,ax=ax[0]) \n",
    "# default nodes and edges\n",
    "nx.draw_networkx(B,node_color = ['brown' if j[1]['bipartite']==0 else 'blue' for j in B.nodes(data=True)],pos=pos, with_labels=False, ax=ax[1])   \n",
    "# nudged labels\n",
    "nx.draw_networkx_labels(B, pos=pos_nodes, ax=ax[1])        \n",
    "# expand plot to fit labels\n",
    "ax[1].set_xlim(tuple(i*1.8 for i in ax[1].get_xlim()))     \n",
    "plt.show()"
   ]
  }
 ],
 "metadata": {
  "kernelspec": {
   "display_name": "Python 3 (ipykernel)",
   "language": "python",
   "name": "python3"
  },
  "language_info": {
   "codemirror_mode": {
    "name": "ipython",
    "version": 3
   },
   "file_extension": ".py",
   "mimetype": "text/x-python",
   "name": "python",
   "nbconvert_exporter": "python",
   "pygments_lexer": "ipython3",
   "version": "3.9.7"
  }
 },
 "nbformat": 4,
 "nbformat_minor": 5
}
